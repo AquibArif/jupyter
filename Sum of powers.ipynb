{
 "cells": [
  {
   "cell_type": "markdown",
   "metadata": {},
   "source": [
    "<div style=\"text-align: right\">Paul Novaes<br>June 2018</div> \n",
    "\n",
    "# Sum of Powers\n",
    "\n",
    "We show how to find closed formulas for $$1^k+2^k +\\cdots + n^k$$\n",
    "using a simple program and elementary linear algebra.\n",
    "\n",
    "We then compare our results to those in Bernouilli's  [Ars Conjectandi](https://en.wikipedia.org/wiki/Ars_Conjectandi) and find a typo in his formula for $\\int n^9$.\n",
    "\n",
    "![Wikipedia](https://upload.wikimedia.org/wikipedia/commons/7/74/JakobBernoulliSummaePotestatum.png)"
   ]
  },
  {
   "cell_type": "markdown",
   "metadata": {},
   "source": [
    "## Finding a closed formula\n",
    "\n",
    "Let's define $$S_k(n) = 1^k+2^k +\\cdots + n^k$$\n",
    "\n",
    "Here we show how to find a closed formula for $S_k(n)$, assuming it is a polynomial of degree $k+1$. It is computation intensive, but it only uses elementary linear algebra.\n",
    "\n",
    "Our goal is to find a polynomial $$P_k(n) = a_{k+1}n^{k+1} + a_kn^k + \\cdots a_0n^0$$ such that, for all $n \\ge 0, P_k(n) = S_k(n)$.\n",
    "\n",
    "Since a polynomial of degree $d$ is determined by its value on $d+1$ points, we just need to find $P_k$ such that $P_k(n) = S_k(n)$ for $n = 0, 1, \\ldots, k+1$. Or, in matrix form:\n",
    "\n",
    "\n",
    "\\begin{equation}\n",
    "\\begin{pmatrix} 0^{k+1} & 0^k & \\cdots & 0^0 \\\\ 1^{k+1} & 1^k & \\cdots & 1^0 \\\\ \\vdots & \\vdots & & \\vdots \\\\ (k+1)^{k+1} & (k+1)^k & \\cdots & (k+1)^0 \\end{pmatrix}\n",
    "\\begin{pmatrix} a_{k+1} \\\\ a_k \\\\ \\vdots \\\\ a_0 \\end{pmatrix}\n",
    "= \\begin{pmatrix} 0 \\\\ 1^k \\\\ \\vdots \\\\ 1^k + 2^k + \\cdots + (k+1)^k\\end{pmatrix} \n",
    "\\end{equation}\n",
    "\n",
    "So we have reduced our problem to solving a system of linear equations of the form $AX = B$, where $A$ and $B$ are known and $X$ is unknown."
   ]
  },
  {
   "cell_type": "markdown",
   "metadata": {},
   "source": [
    "# Using sympy to solve the system"
   ]
  },
  {
   "cell_type": "code",
   "execution_count": 1,
   "metadata": {},
   "outputs": [],
   "source": [
    "from sympy import *\n",
    "\n",
    "def MatrixA(k):\n",
    "    A = [[0 for x in range(k + 2)] for y in range(k + 2)]\n",
    "    for i in range(k + 2):\n",
    "        for j in range(k + 2):\n",
    "            A[i][j] = (i) ** (k - j + 1)\n",
    "    return Matrix(A)\n",
    "\n",
    "def sum_of_powers(n, k):\n",
    "    sum = 0\n",
    "    for i in range(0, n + 1):\n",
    "        sum += i**k\n",
    "    return sum\n",
    "\n",
    "def MatrixB(k):\n",
    "    B = [0 for x in range(k + 2)]\n",
    "    for i in range(k + 2):\n",
    "        B[i] = sum_of_powers(i, k) \n",
    "    return Matrix(B)\n",
    "\n",
    "def formula_sum_of_powers(k):\n",
    "    A = MatrixA(k)\n",
    "    B = MatrixB(k)\n",
    "    X = A.LUsolve(B)\n",
    "    return X"
   ]
  },
  {
   "cell_type": "markdown",
   "metadata": {},
   "source": [
    "## Verifying the formula in simple cases\n",
    "\n",
    "As an example, let's find out $1+2+\\cdots+n$:"
   ]
  },
  {
   "cell_type": "code",
   "execution_count": 2,
   "metadata": {},
   "outputs": [
    {
     "data": {
      "text/plain": [
       "Matrix([\n",
       "[1/2],\n",
       "[1/2],\n",
       "[  0]])"
      ]
     },
     "execution_count": 2,
     "metadata": {},
     "output_type": "execute_result"
    }
   ],
   "source": [
    "formula_sum_of_powers(1)"
   ]
  },
  {
   "cell_type": "markdown",
   "metadata": {},
   "source": [
    "That is, we have the familiar formula $$1+2+\\cdots+n = {n^2\\over2} + {n\\over2}$$"
   ]
  },
  {
   "cell_type": "markdown",
   "metadata": {},
   "source": [
    "Similarly, we have $$1^2+2^2+\\cdots+n^2 = {n^3\\over3} + {n^2\\over2} + {n\\over6}$$ as can be seen here:"
   ]
  },
  {
   "cell_type": "code",
   "execution_count": 3,
   "metadata": {},
   "outputs": [
    {
     "data": {
      "text/plain": [
       "Matrix([\n",
       "[1/3],\n",
       "[1/2],\n",
       "[1/6],\n",
       "[  0]])"
      ]
     },
     "execution_count": 3,
     "metadata": {},
     "output_type": "execute_result"
    }
   ],
   "source": [
    "formula_sum_of_powers(2)"
   ]
  },
  {
   "cell_type": "markdown",
   "metadata": {},
   "source": [
    "## A typo in _Ars Conjectandi_\n",
    "\n",
    "Using our program, it is easy to see that there is a typo for $\\int n^9$ (Bernouilli's notation for $\\sum_1^n{i^9}$). Bernouilli writes:\n",
    "\n",
    "$$\\int n^9 = {1\\over 10}n^{10} + {1\\over 2}n^9 +{3\\over 4}n^8 -{7\\over 10}n^6 +{1\\over 2}n^4 -{1\\over 12}nn$$\n",
    "\n",
    "But the actual closed formula is:\n",
    "\n",
    "$$\\int n^9 = {1\\over 10}n^{10} + {1\\over 2}n^9 +{3\\over 4}n^8 -{7\\over 10}n^6 +{1\\over 2}n^4 -{3\\over 20}nn$$\n",
    "\n",
    "Indeed:"
   ]
  },
  {
   "cell_type": "code",
   "execution_count": 4,
   "metadata": {},
   "outputs": [
    {
     "data": {
      "text/plain": [
       "Matrix([\n",
       "[ 1/10],\n",
       "[  1/2],\n",
       "[  3/4],\n",
       "[    0],\n",
       "[-7/10],\n",
       "[    0],\n",
       "[  1/2],\n",
       "[    0],\n",
       "[-3/20],\n",
       "[    0],\n",
       "[    0]])"
      ]
     },
     "execution_count": 4,
     "metadata": {},
     "output_type": "execute_result"
    }
   ],
   "source": [
    "formula_sum_of_powers(9)"
   ]
  }
 ],
 "metadata": {
  "kernelspec": {
   "display_name": "Python 3",
   "language": "python",
   "name": "python3"
  },
  "language_info": {
   "codemirror_mode": {
    "name": "ipython",
    "version": 3
   },
   "file_extension": ".py",
   "mimetype": "text/x-python",
   "name": "python",
   "nbconvert_exporter": "python",
   "pygments_lexer": "ipython3",
   "version": "3.6.5"
  }
 },
 "nbformat": 4,
 "nbformat_minor": 2
}
